{
 "cells": [
  {
   "cell_type": "markdown",
   "id": "184b3718-ef07-44c4-9bcf-286bfb2cba4e",
   "metadata": {},
   "source": [
    "# Classifiez automatiquement des biens de consommation\n",
    "## Notebook 4 : Collecte de produits\n",
    "OpenClassrooms - Parcours Data Scientist - Projet 06  "
   ]
  },
  {
   "cell_type": "markdown",
   "id": "f9018032-60b5-46a0-a6ee-24bc3436b9e7",
   "metadata": {},
   "source": [
    "## Présentation du projet"
   ]
  },
  {
   "cell_type": "markdown",
   "id": "ffb52fdf-0088-4fbc-a810-53a23a3cd43c",
   "metadata": {},
   "source": [
    "**Contexte**  \n"
   ]
  },
  {
   "cell_type": "markdown",
   "id": "d0f2b5b6-7b3a-4061-bde1-2c1f48822405",
   "metadata": {},
   "source": [
    "* **Place de marché** souhaite lancer une marketplace e-commerce anglophone  \n",
    "* Les vendeurs proposent des articles à des acheteurs en postant une photo et une description  \n",
    "* Pour l'instant, l'attribution de la catégorie d'un article est effectuée manuellement par les vendeurs, elle est peu fiable. Le volume des articles est très petit  \n",
    "* Il devient nécessaire d'**automatiser la tâche d‘attribution de la catégorie**"
   ]
  },
  {
   "cell_type": "markdown",
   "id": "b212bf67-445f-4e26-b0e3-2f962b8c4c5c",
   "metadata": {},
   "source": [
    "**Missions**  \n",
    "* Étude de faisabilité à partir de données texte (Notebook 1)  \n",
    "* Étude de faisabilité à partir des images - SIFT (Notebook 2)  \n",
    "* Étude de faisabilité à partir des images - CNN transfer Learning (Notebook 3)  \n",
    "* **Collecte de produits** à partie d'une API (Ce notebook)"
   ]
  },
  {
   "cell_type": "markdown",
   "id": "4500ad0c-bc39-4c94-a85f-246963717bf7",
   "metadata": {},
   "source": [
    "**Collecte de produits**  \n",
    "* Tester la collecte de produits à base de “champagne” via l’[API edanam](https://rapidapi.com/edamam/api/edamam-food-and-grocery-database)  \n",
    "* Extraire les 10 premiers produits dans un fichier “.csv”, contenant pour chaque produit les données suivantes : foodId, label, category, foodContentsLabel, image  "
   ]
  },
  {
   "cell_type": "markdown",
   "id": "f6d070e1-d1d8-4313-99db-67b5edc8f9cc",
   "metadata": {},
   "source": [
    "# 1 Test de l'API"
   ]
  },
  {
   "cell_type": "markdown",
   "id": "be382342-654f-450c-87ea-f2cb0232c7f1",
   "metadata": {},
   "source": [
    "* L'url fournie permet d'accéder à une page de test de l'API  \n",
    "* Après enregistrement de l'utilisateur, une clé API est automatiquement générée et peut être récupérée par un simple copier-coller\n",
    "* Pour tester la collecte de produits à base de champagne :\n",
    "    * Effacer le contenu des champs pré-remplis\n",
    "    * Saisir dans le champ `ingr` la chaîne de caractères 'champagne'\n",
    "* Une importante liste de snippets est proposée : le choix se porte sur 'Python > requests'\n",
    "* Ce snippet donne le code permettant d'exécuter et de récupérer le résultat de la requête de collecte des produits à base de champagne :"
   ]
  },
  {
   "cell_type": "markdown",
   "id": "3cf45bb9-e479-400b-87ad-6d30717bea36",
   "metadata": {},
   "source": [
    "```python\n",
    "import requests\n",
    "\n",
    "url = \"https://edamam-food-and-grocery-database.p.rapidapi.com/api/food-database/v2/parser\"\n",
    "\n",
    "querystring = {\"ingr\":\"champagne\"}\n",
    "\n",
    "headers = {\n",
    "\t\"X-RapidAPI-Key\": \"fe68bf5815msh52f466cefae925dp1ad0b8jsn280aff8d1abe\",\n",
    "\t\"X-RapidAPI-Host\": \"edamam-food-and-grocery-database.p.rapidapi.com\"\n",
    "}\n",
    "\n",
    "response = requests.get(url, headers=headers, params=querystring)\n",
    "\n",
    "print(response.json())\n",
    "```"
   ]
  },
  {
   "cell_type": "markdown",
   "id": "5e7b80e0-f8a7-430c-a115-89bda2b26511",
   "metadata": {},
   "source": [
    "* La page propose aussi l'affichage du résultat de la requête, ce qui permet d'analyser la structure de la réponse et de repérer les champs à récupérer :\n",
    "\n",
    "![](json_products.jpg)"
   ]
  },
  {
   "cell_type": "markdown",
   "id": "c0b796e6-21ac-4ff2-9075-626b901e361f",
   "metadata": {},
   "source": [
    "* A noter que lorsqu'une information est manquante pour un produit, le champ correspondant n'est pas présent"
   ]
  },
  {
   "cell_type": "markdown",
   "id": "804d15cc-7f1a-417e-9139-c17cd7442790",
   "metadata": {},
   "source": [
    "# 2 Script de collecte"
   ]
  },
  {
   "cell_type": "code",
   "execution_count": 51,
   "id": "1b7d8483-6fc6-49d1-841d-40bb008f49a6",
   "metadata": {},
   "outputs": [],
   "source": [
    "# Import des module\n",
    "import requests\n",
    "import time\n",
    "import pandas as pd"
   ]
  },
  {
   "cell_type": "markdown",
   "id": "094fb003-35af-4c62-983f-24d8d8b04338",
   "metadata": {},
   "source": [
    "## 2.1 Interrogation de la base de données"
   ]
  },
  {
   "cell_type": "code",
   "execution_count": 41,
   "id": "fe34945f-fd2d-4856-99cd-ccbcfb7deb02",
   "metadata": {},
   "outputs": [],
   "source": [
    "# A mettre si besoin dans un fichier à part\n",
    "API_KEY = \"fe68bf5815msh52f466cefae925dp1ad0b8jsn280aff8d1abe\""
   ]
  },
  {
   "cell_type": "code",
   "execution_count": 44,
   "id": "12222630-0cec-4b8a-886a-8207cdb9f276",
   "metadata": {},
   "outputs": [],
   "source": [
    "# Fonction d'interrogation de la base de données 'edanam'\n",
    "def query_edanam_databse_by_ingredient(api_key, ingredient='Champagne'):\n",
    "    \"\"\"\n",
    "    Renvoit les produits à base d'un ingrédient de la BDD 'edanam'\n",
    "\n",
    "    Parameters:\n",
    "        api_key (str)    : Clé API pour la connexion à la BDD edanam\n",
    "        ingredient (str) : Critère de sélection des produits\n",
    "\n",
    "    Returns:\n",
    "        query_result (JSON) : Liste des produits au format JSON\n",
    "                              (None en cas d'erreur)\n",
    "    \"\"\"\n",
    "    # Endpoint\n",
    "    url = \"https://edamam-food-and-grocery-database.p.rapidapi.com/api/food-database/v2/parser\"\n",
    "\n",
    "    # Requête\n",
    "    querystring = {\"ingr\": ingredient}\n",
    "\n",
    "    # Headers obligatoires\n",
    "    headers = {\n",
    "    \t\"X-RapidAPI-Key\": api_key,\n",
    "    \t\"X-RapidAPI-Host\": \"edamam-food-and-grocery-database.p.rapidapi.com\"\n",
    "    }\n",
    "\n",
    "    # Récupération de la réponse\n",
    "    response = requests.get(url, headers=headers, params=querystring)\n",
    "\n",
    "    # Vérification du statut de réponse\n",
    "    query_result = None\n",
    "    if response.status_code == 200:\n",
    "        query_result = response.json()\n",
    "\n",
    "    return query_result"
   ]
  },
  {
   "cell_type": "markdown",
   "id": "42028ae0-27ea-458d-9223-e43366c9a459",
   "metadata": {},
   "source": [
    "## 2.2 Traitement de la réponse"
   ]
  },
  {
   "cell_type": "markdown",
   "id": "dc736bab-10a5-4d70-b292-b9b51f784408",
   "metadata": {},
   "source": [
    "* Éxécution de la requête"
   ]
  },
  {
   "cell_type": "code",
   "execution_count": 49,
   "id": "24ebb127-3333-401c-af14-c50d1bf2d371",
   "metadata": {},
   "outputs": [
    {
     "name": "stdout",
     "output_type": "stream",
     "text": [
      "Durée d'exécution de la requête : 0.86 secondes.\n"
     ]
    }
   ],
   "source": [
    "start = time.perf_counter()\n",
    "\n",
    "# Récupération des produits\n",
    "json_products = query_edanam_databse_by_ingredient(API_KEY, ingredient=\"champagne\")\n",
    "\n",
    "print(f\"Durée d'exécution de la requête : {round(time.perf_counter() - start, 2)} secondes.\")"
   ]
  },
  {
   "cell_type": "markdown",
   "id": "48f85339-7485-4aaa-aa61-509c8bdd37d1",
   "metadata": {},
   "source": [
    "* Enregistrement des champs 'foodId', 'label', 'category', 'foodContentsLabel' et 'image' dans un DataFrame"
   ]
  },
  {
   "cell_type": "code",
   "execution_count": 50,
   "id": "2d317d3c-aa0f-470a-af96-21455efde4b9",
   "metadata": {},
   "outputs": [],
   "source": [
    "# Nombre de produits à récupérer\n",
    "numbe_of_products = 10\n",
    "\n",
    "# Dictionnaire pour stocker les résultats\n",
    "extraction = {}\n",
    "\n",
    "# Récupération des champs\n",
    "for num_product in range(numbe_of_products):\n",
    "    datas = products[num_product]['food']\n",
    "    for field in ('foodId', 'label', 'category', 'foodContentsLabel', 'image'):\n",
    "        extraction.setdefault(field, []).append(datas.get(field, ''))\n",
    "\n",
    "# Conversion du dictionnaire en DataFrame\n",
    "products = pd.DataFrame(extraction)"
   ]
  },
  {
   "cell_type": "markdown",
   "id": "84117e07-fd20-4335-aa61-6c28d8a6362d",
   "metadata": {},
   "source": [
    "* Enregistrement 'edanam_products.csv'"
   ]
  },
  {
   "cell_type": "code",
   "execution_count": 54,
   "id": "2b80026a-fcc7-44e1-b414-ad9910d6a097",
   "metadata": {},
   "outputs": [],
   "source": [
    "# Enregistrement au format 'csv'\n",
    "products.to_csv('edanam_products.csv', index=False)"
   ]
  },
  {
   "cell_type": "markdown",
   "id": "0aa83ab9-2284-429e-87d2-978ea94bc633",
   "metadata": {},
   "source": [
    "## 2.3 Vérification"
   ]
  },
  {
   "cell_type": "code",
   "execution_count": 55,
   "id": "1b1fa5dc-2111-4ed3-a978-122982c94160",
   "metadata": {},
   "outputs": [],
   "source": [
    "# Chargement du fichier dans un DataFrame\n",
    "df_products = pd.read_csv('edanam_products.csv')"
   ]
  },
  {
   "cell_type": "code",
   "execution_count": 56,
   "id": "edc308e3-e5cb-4073-9679-4d6b27a35352",
   "metadata": {},
   "outputs": [
    {
     "data": {
      "text/html": [
       "<div>\n",
       "<style scoped>\n",
       "    .dataframe tbody tr th:only-of-type {\n",
       "        vertical-align: middle;\n",
       "    }\n",
       "\n",
       "    .dataframe tbody tr th {\n",
       "        vertical-align: top;\n",
       "    }\n",
       "\n",
       "    .dataframe thead th {\n",
       "        text-align: right;\n",
       "    }\n",
       "</style>\n",
       "<table border=\"1\" class=\"dataframe\">\n",
       "  <thead>\n",
       "    <tr style=\"text-align: right;\">\n",
       "      <th></th>\n",
       "      <th>foodId</th>\n",
       "      <th>label</th>\n",
       "      <th>category</th>\n",
       "      <th>foodContentsLabel</th>\n",
       "      <th>image</th>\n",
       "    </tr>\n",
       "  </thead>\n",
       "  <tbody>\n",
       "    <tr>\n",
       "      <th>0</th>\n",
       "      <td>food_a656mk2a5dmqb2adiamu6beihduu</td>\n",
       "      <td>Champagne</td>\n",
       "      <td>Generic foods</td>\n",
       "      <td>NaN</td>\n",
       "      <td>https://www.edamam.com/food-img/a71/a718cf3c52...</td>\n",
       "    </tr>\n",
       "    <tr>\n",
       "      <th>1</th>\n",
       "      <td>food_b753ithamdb8psbt0w2k9aquo06c</td>\n",
       "      <td>Champagne Vinaigrette, Champagne</td>\n",
       "      <td>Packaged foods</td>\n",
       "      <td>OLIVE OIL; BALSAMIC VINEGAR; CHAMPAGNE VINEGAR...</td>\n",
       "      <td>NaN</td>\n",
       "    </tr>\n",
       "    <tr>\n",
       "      <th>2</th>\n",
       "      <td>food_b3dyababjo54xobm6r8jzbghjgqe</td>\n",
       "      <td>Champagne Vinaigrette, Champagne</td>\n",
       "      <td>Packaged foods</td>\n",
       "      <td>INGREDIENTS: WATER; CANOLA OIL; CHAMPAGNE VINE...</td>\n",
       "      <td>https://www.edamam.com/food-img/d88/d88b64d973...</td>\n",
       "    </tr>\n",
       "    <tr>\n",
       "      <th>3</th>\n",
       "      <td>food_a9e0ghsamvoc45bwa2ybsa3gken9</td>\n",
       "      <td>Champagne Vinaigrette, Champagne</td>\n",
       "      <td>Packaged foods</td>\n",
       "      <td>CANOLA AND SOYBEAN OIL; WHITE WINE (CONTAINS S...</td>\n",
       "      <td>NaN</td>\n",
       "    </tr>\n",
       "    <tr>\n",
       "      <th>4</th>\n",
       "      <td>food_an4jjueaucpus2a3u1ni8auhe7q9</td>\n",
       "      <td>Champagne Vinaigrette, Champagne</td>\n",
       "      <td>Packaged foods</td>\n",
       "      <td>WATER; CANOLA AND SOYBEAN OIL; WHITE WINE (CON...</td>\n",
       "      <td>NaN</td>\n",
       "    </tr>\n",
       "    <tr>\n",
       "      <th>5</th>\n",
       "      <td>food_bmu5dmkazwuvpaa5prh1daa8jxs0</td>\n",
       "      <td>Champagne Dressing, Champagne</td>\n",
       "      <td>Packaged foods</td>\n",
       "      <td>SOYBEAN OIL; WHITE WINE (PRESERVED WITH SULFIT...</td>\n",
       "      <td>https://www.edamam.com/food-img/ab2/ab2459fc2a...</td>\n",
       "    </tr>\n",
       "    <tr>\n",
       "      <th>6</th>\n",
       "      <td>food_alpl44taoyv11ra0lic1qa8xculi</td>\n",
       "      <td>Champagne Buttercream</td>\n",
       "      <td>Generic meals</td>\n",
       "      <td>sugar; butter; shortening; vanilla; champagne;...</td>\n",
       "      <td>NaN</td>\n",
       "    </tr>\n",
       "    <tr>\n",
       "      <th>7</th>\n",
       "      <td>food_byap67hab6evc3a0f9w1oag3s0qf</td>\n",
       "      <td>Champagne Sorbet</td>\n",
       "      <td>Generic meals</td>\n",
       "      <td>Sugar; Lemon juice; brandy; Champagne; Peach</td>\n",
       "      <td>NaN</td>\n",
       "    </tr>\n",
       "    <tr>\n",
       "      <th>8</th>\n",
       "      <td>food_am5egz6aq3fpjlaf8xpkdbc2asis</td>\n",
       "      <td>Champagne Truffles</td>\n",
       "      <td>Generic meals</td>\n",
       "      <td>butter; cocoa; sweetened condensed milk; vanil...</td>\n",
       "      <td>NaN</td>\n",
       "    </tr>\n",
       "    <tr>\n",
       "      <th>9</th>\n",
       "      <td>food_bcz8rhiajk1fuva0vkfmeakbouc0</td>\n",
       "      <td>Champagne Vinaigrette</td>\n",
       "      <td>Generic meals</td>\n",
       "      <td>champagne vinegar; olive oil; Dijon mustard; s...</td>\n",
       "      <td>NaN</td>\n",
       "    </tr>\n",
       "  </tbody>\n",
       "</table>\n",
       "</div>"
      ],
      "text/plain": [
       "                              foodId                             label  \\\n",
       "0  food_a656mk2a5dmqb2adiamu6beihduu                         Champagne   \n",
       "1  food_b753ithamdb8psbt0w2k9aquo06c  Champagne Vinaigrette, Champagne   \n",
       "2  food_b3dyababjo54xobm6r8jzbghjgqe  Champagne Vinaigrette, Champagne   \n",
       "3  food_a9e0ghsamvoc45bwa2ybsa3gken9  Champagne Vinaigrette, Champagne   \n",
       "4  food_an4jjueaucpus2a3u1ni8auhe7q9  Champagne Vinaigrette, Champagne   \n",
       "5  food_bmu5dmkazwuvpaa5prh1daa8jxs0     Champagne Dressing, Champagne   \n",
       "6  food_alpl44taoyv11ra0lic1qa8xculi             Champagne Buttercream   \n",
       "7  food_byap67hab6evc3a0f9w1oag3s0qf                  Champagne Sorbet   \n",
       "8  food_am5egz6aq3fpjlaf8xpkdbc2asis                Champagne Truffles   \n",
       "9  food_bcz8rhiajk1fuva0vkfmeakbouc0             Champagne Vinaigrette   \n",
       "\n",
       "         category                                  foodContentsLabel  \\\n",
       "0   Generic foods                                                NaN   \n",
       "1  Packaged foods  OLIVE OIL; BALSAMIC VINEGAR; CHAMPAGNE VINEGAR...   \n",
       "2  Packaged foods  INGREDIENTS: WATER; CANOLA OIL; CHAMPAGNE VINE...   \n",
       "3  Packaged foods  CANOLA AND SOYBEAN OIL; WHITE WINE (CONTAINS S...   \n",
       "4  Packaged foods  WATER; CANOLA AND SOYBEAN OIL; WHITE WINE (CON...   \n",
       "5  Packaged foods  SOYBEAN OIL; WHITE WINE (PRESERVED WITH SULFIT...   \n",
       "6   Generic meals  sugar; butter; shortening; vanilla; champagne;...   \n",
       "7   Generic meals       Sugar; Lemon juice; brandy; Champagne; Peach   \n",
       "8   Generic meals  butter; cocoa; sweetened condensed milk; vanil...   \n",
       "9   Generic meals  champagne vinegar; olive oil; Dijon mustard; s...   \n",
       "\n",
       "                                               image  \n",
       "0  https://www.edamam.com/food-img/a71/a718cf3c52...  \n",
       "1                                                NaN  \n",
       "2  https://www.edamam.com/food-img/d88/d88b64d973...  \n",
       "3                                                NaN  \n",
       "4                                                NaN  \n",
       "5  https://www.edamam.com/food-img/ab2/ab2459fc2a...  \n",
       "6                                                NaN  \n",
       "7                                                NaN  \n",
       "8                                                NaN  \n",
       "9                                                NaN  "
      ]
     },
     "metadata": {},
     "output_type": "display_data"
    }
   ],
   "source": [
    "# Affichage du contenu\n",
    "display(df_products)"
   ]
  },
  {
   "cell_type": "code",
   "execution_count": null,
   "id": "8724046e-05ec-46be-b01b-335a44e86cc6",
   "metadata": {},
   "outputs": [],
   "source": []
  }
 ],
 "metadata": {
  "kernelspec": {
   "display_name": "Python 3 (ipykernel)",
   "language": "python",
   "name": "python3"
  },
  "language_info": {
   "codemirror_mode": {
    "name": "ipython",
    "version": 3
   },
   "file_extension": ".py",
   "mimetype": "text/x-python",
   "name": "python",
   "nbconvert_exporter": "python",
   "pygments_lexer": "ipython3",
   "version": "3.11.9"
  }
 },
 "nbformat": 4,
 "nbformat_minor": 5
}
